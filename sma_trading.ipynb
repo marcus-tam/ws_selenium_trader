{
  "nbformat": 4,
  "nbformat_minor": 0,
  "metadata": {
    "colab": {
      "name": "sma_trading.ipynb",
      "provenance": [],
      "history_visible": true,
      "authorship_tag": "ABX9TyPWFD6FaVFKToJSKTD+RnYg",
      "include_colab_link": true
    },
    "kernelspec": {
      "name": "python3",
      "display_name": "Python 3"
    },
    "language_info": {
      "name": "python"
    }
  },
  "cells": [
    {
      "cell_type": "markdown",
      "metadata": {
        "id": "view-in-github",
        "colab_type": "text"
      },
      "source": [
        "<a href=\"https://colab.research.google.com/github/marcus-tam/ws_selenium_trader/blob/main/sma_trading.ipynb\" target=\"_parent\"><img src=\"https://colab.research.google.com/assets/colab-badge.svg\" alt=\"Open In Colab\"/></a>"
      ]
    },
    {
      "cell_type": "markdown",
      "metadata": {
        "id": "-PGYkR-plMIx"
      },
      "source": [
        "pip install required packages and import"
      ]
    },
    {
      "cell_type": "code",
      "metadata": {
        "colab": {
          "base_uri": "https://localhost:8080/"
        },
        "id": "R3f7kjYefsLR",
        "outputId": "2c06fb55-81c8-44a8-c85c-8c692d1bb130"
      },
      "source": [
        "!pip install yfinance"
      ],
      "execution_count": 4,
      "outputs": [
        {
          "output_type": "stream",
          "text": [
            "Collecting yfinance\n",
            "  Downloading https://files.pythonhosted.org/packages/79/bd/d64719da8f5367f4d8b16e83507fa1d90942f433f748a4cf3ed7aa515d14/yfinance-0.1.63.tar.gz\n",
            "Requirement already satisfied: pandas>=0.24 in /usr/local/lib/python3.7/dist-packages (from yfinance) (1.1.5)\n",
            "Requirement already satisfied: numpy>=1.15 in /usr/local/lib/python3.7/dist-packages (from yfinance) (1.19.5)\n",
            "Requirement already satisfied: requests>=2.20 in /usr/local/lib/python3.7/dist-packages (from yfinance) (2.23.0)\n",
            "Requirement already satisfied: multitasking>=0.0.7 in /usr/local/lib/python3.7/dist-packages (from yfinance) (0.0.9)\n",
            "Collecting lxml>=4.5.1\n",
            "\u001b[?25l  Downloading https://files.pythonhosted.org/packages/30/c0/d0526314971fc661b083ab135747dc68446a3022686da8c16d25fcf6ef07/lxml-4.6.3-cp37-cp37m-manylinux2014_x86_64.whl (6.3MB)\n",
            "\u001b[K     |████████████████████████████████| 6.3MB 4.0MB/s \n",
            "\u001b[?25hRequirement already satisfied: python-dateutil>=2.7.3 in /usr/local/lib/python3.7/dist-packages (from pandas>=0.24->yfinance) (2.8.1)\n",
            "Requirement already satisfied: pytz>=2017.2 in /usr/local/lib/python3.7/dist-packages (from pandas>=0.24->yfinance) (2018.9)\n",
            "Requirement already satisfied: chardet<4,>=3.0.2 in /usr/local/lib/python3.7/dist-packages (from requests>=2.20->yfinance) (3.0.4)\n",
            "Requirement already satisfied: urllib3!=1.25.0,!=1.25.1,<1.26,>=1.21.1 in /usr/local/lib/python3.7/dist-packages (from requests>=2.20->yfinance) (1.24.3)\n",
            "Requirement already satisfied: certifi>=2017.4.17 in /usr/local/lib/python3.7/dist-packages (from requests>=2.20->yfinance) (2021.5.30)\n",
            "Requirement already satisfied: idna<3,>=2.5 in /usr/local/lib/python3.7/dist-packages (from requests>=2.20->yfinance) (2.10)\n",
            "Requirement already satisfied: six>=1.5 in /usr/local/lib/python3.7/dist-packages (from python-dateutil>=2.7.3->pandas>=0.24->yfinance) (1.15.0)\n",
            "Building wheels for collected packages: yfinance\n",
            "  Building wheel for yfinance (setup.py) ... \u001b[?25l\u001b[?25hdone\n",
            "  Created wheel for yfinance: filename=yfinance-0.1.63-py2.py3-none-any.whl size=23919 sha256=4f027b3900b3876870d95510f7ebef4541368b20db3e807fa1b9f63a1e36b71f\n",
            "  Stored in directory: /root/.cache/pip/wheels/fe/a0/79/b73d4a0c535b421b88fc7b393936b371fabbfeaf979eca4050\n",
            "Successfully built yfinance\n",
            "Installing collected packages: lxml, yfinance\n",
            "  Found existing installation: lxml 4.2.6\n",
            "    Uninstalling lxml-4.2.6:\n",
            "      Successfully uninstalled lxml-4.2.6\n",
            "Successfully installed lxml-4.6.3 yfinance-0.1.63\n"
          ],
          "name": "stdout"
        }
      ]
    },
    {
      "cell_type": "code",
      "metadata": {
        "id": "lvqPzoprfq9Z"
      },
      "source": [
        "import datetime as dt\n",
        "import matplotlib.pyplot as plt\n",
        "import pandas_datareader as web\n",
        "from pprint import PrettyPrinter\n",
        "import yfinance as yf\n",
        "import pandas as pd\n",
        "import math\n",
        "import numpy as np\n",
        "import io"
      ],
      "execution_count": 80,
      "outputs": []
    },
    {
      "cell_type": "markdown",
      "metadata": {
        "id": "VHfUW9HklQRF"
      },
      "source": [
        "Set plot style to dark background (gamer time)\n",
        "\n",
        "PP is used for printing with natural indents (used in .py version but not necessary for .ipynp)\n",
        "\n",
        "set up SMA 30 and SMA 100\n",
        "\n",
        "set up start and end times.\n"
      ]
    },
    {
      "cell_type": "code",
      "metadata": {
        "id": "4kMYuefEfrc1"
      },
      "source": [
        "plt.style.use(\"dark_background\")\n",
        "pp = PrettyPrinter(indent=4)\n",
        "\n",
        "ma_1 = 30\n",
        "ma_2 = 100\n",
        "\n",
        "start = dt.datetime.now() - dt.timedelta(days=365*6)\n",
        "end = dt.datetime.now()"
      ],
      "execution_count": 106,
      "outputs": []
    },
    {
      "cell_type": "markdown",
      "metadata": {
        "id": "EQ794f2NllGO"
      },
      "source": [
        "Download ticker data"
      ]
    },
    {
      "cell_type": "code",
      "metadata": {
        "colab": {
          "base_uri": "https://localhost:8080/"
        },
        "id": "PJSIbn13fyWU",
        "outputId": "fbe8e4af-da0e-4519-8c02-cdf55cccfbc7"
      },
      "source": [
        "data = yf.download('NIO', start=start, end = end)\n",
        "pp.pprint(data)"
      ],
      "execution_count": 118,
      "outputs": [
        {
          "output_type": "stream",
          "text": [
            "\r[*********************100%***********************]  1 of 1 completed\n",
            "                 Open       High        Low      Close  Adj Close     Volume\n",
            "Date                                                                        \n",
            "2018-09-12   6.000000   6.930000   5.350000   6.600000   6.600000   66849000\n",
            "2018-09-13   6.620000  12.690000   6.520000  11.600000  11.600000  158346500\n",
            "2018-09-14  12.660000  13.800000   9.220000   9.900000   9.900000  172473600\n",
            "2018-09-17   9.610000   9.750000   8.500000   8.500000   8.500000   56323900\n",
            "2018-09-18   8.730000   9.100000   7.670000   7.680000   7.680000   41827600\n",
            "...               ...        ...        ...        ...        ...        ...\n",
            "2021-07-08  43.860001  46.259998  42.730000  45.599998  45.599998   93774800\n",
            "2021-07-09  46.709999  47.009998  44.580002  45.529999  45.529999   64517900\n",
            "2021-07-12  45.970001  46.820000  44.599998  46.340000  46.340000   54668300\n",
            "2021-07-13  46.200001  46.910000  44.930000  44.959999  44.959999   44509600\n",
            "2021-07-14  44.840000  45.168999  42.680000  43.049999  43.049999   56107618\n",
            "\n",
            "[714 rows x 6 columns]\n"
          ],
          "name": "stdout"
        }
      ]
    },
    {
      "cell_type": "markdown",
      "metadata": {
        "id": "TFVG4D0zln3l"
      },
      "source": [
        "Add new fields in dataframe. SMA_30 and SMA_100"
      ]
    },
    {
      "cell_type": "code",
      "metadata": {
        "id": "dmCd1kRlf1he"
      },
      "source": [
        "data[f'SMA_{ma_1}'] = data['Close'].rolling(window=ma_1).mean()\n",
        "data[f'SMA_{ma_2}'] = data['Close'].rolling(window=ma_2).mean()\n",
        "\n",
        "data = data.iloc[ma_2:]"
      ],
      "execution_count": 119,
      "outputs": []
    },
    {
      "cell_type": "markdown",
      "metadata": {
        "id": "AGez2niUluBE"
      },
      "source": [
        "Create variables to store when to buy and sell.\n",
        "\n",
        "Trigger is used as a lock mechanism so we don't have multiple buy and sell orders when SMA's cross for extended periods of time."
      ]
    },
    {
      "cell_type": "code",
      "metadata": {
        "id": "BN2sXsq4gMzt"
      },
      "source": [
        "buy_signals = []\n",
        "sell_signals = []\n",
        "trigger = 0"
      ],
      "execution_count": 120,
      "outputs": []
    },
    {
      "cell_type": "markdown",
      "metadata": {
        "id": "76dSpELfl6Le"
      },
      "source": [
        "Loop through data dataframe. \n",
        "\n",
        "If SMA30 is greater than SMA100 (and trigger lock mechanism is satisfied): append new buy point.\n",
        "\n",
        "Else if SMA30 is less than SMA100 (and trigger lock mechanism is satisfied);\n",
        "append new sell point.\n",
        "\n",
        "else: append 'NAN' values. "
      ]
    },
    {
      "cell_type": "code",
      "metadata": {
        "id": "GDUESiurgNX9"
      },
      "source": [
        "for x in range(len(data)):\n",
        "    if data[f\"SMA_{ma_1}\"].iloc[x] > data[f'SMA_{ma_2}'].iloc[x] and trigger != 1:\n",
        "        buy_signals.append(data['Close'].iloc[x])\n",
        "        sell_signals.append(float('nan'))\n",
        "        trigger = 1\n",
        "    elif data[f\"SMA_{ma_1}\"].iloc[x] < data[f'SMA_{ma_2}'].iloc[x] and trigger != -1:\n",
        "        buy_signals.append(float('nan'))\n",
        "        sell_signals.append(data['Close'].iloc[x])\n",
        "        trigger = -1\n",
        "    else:\n",
        "        buy_signals.append(float('nan'))\n",
        "        sell_signals.append(float('nan'))"
      ],
      "execution_count": 121,
      "outputs": []
    },
    {
      "cell_type": "markdown",
      "metadata": {
        "id": "qID4IWYcmVyv"
      },
      "source": [
        "Add new buy and sells to data dataframe"
      ]
    },
    {
      "cell_type": "code",
      "metadata": {
        "colab": {
          "base_uri": "https://localhost:8080/"
        },
        "id": "f5gW-cbygP2b",
        "outputId": "8b2f91ef-10b4-4bab-979a-8cf3923a2552"
      },
      "source": [
        "data['Buy Signals'] = buy_signals\n",
        "data['Sell Signals'] = sell_signals\n",
        "\n",
        "print(data)"
      ],
      "execution_count": 122,
      "outputs": [
        {
          "output_type": "stream",
          "text": [
            "                 Open       High        Low  ...  SMA_100  Buy Signals  Sell Signals\n",
            "Date                                         ...                                    \n",
            "2019-02-06   7.950000   8.590000   7.830000  ...   7.1131          NaN           8.4\n",
            "2019-02-07   8.280000   8.370000   7.800000  ...   7.0775          NaN           NaN\n",
            "2019-02-08   8.000000   8.000000   7.280000  ...   7.0552          NaN           NaN\n",
            "2019-02-11   7.670000   7.770000   7.380000  ...   7.0448          NaN           NaN\n",
            "2019-02-12   7.350000   7.570000   7.140000  ...   7.0424          NaN           NaN\n",
            "...               ...        ...        ...  ...      ...          ...           ...\n",
            "2021-07-08  43.860001  46.259998  42.730000  ...  41.8363          NaN           NaN\n",
            "2021-07-09  46.709999  47.009998  44.580002  ...  41.6993          NaN           NaN\n",
            "2021-07-12  45.970001  46.820000  44.599998  ...  41.5895          NaN           NaN\n",
            "2021-07-13  46.200001  46.910000  44.930000  ...  41.4948          NaN           NaN\n",
            "2021-07-14  44.840000  45.168999  42.680000  ...  41.3749          NaN           NaN\n",
            "\n",
            "[614 rows x 10 columns]\n"
          ],
          "name": "stdout"
        },
        {
          "output_type": "stream",
          "text": [
            "/usr/local/lib/python3.7/dist-packages/ipykernel_launcher.py:1: SettingWithCopyWarning: \n",
            "A value is trying to be set on a copy of a slice from a DataFrame.\n",
            "Try using .loc[row_indexer,col_indexer] = value instead\n",
            "\n",
            "See the caveats in the documentation: https://pandas.pydata.org/pandas-docs/stable/user_guide/indexing.html#returning-a-view-versus-a-copy\n",
            "  \"\"\"Entry point for launching an IPython kernel.\n",
            "/usr/local/lib/python3.7/dist-packages/ipykernel_launcher.py:2: SettingWithCopyWarning: \n",
            "A value is trying to be set on a copy of a slice from a DataFrame.\n",
            "Try using .loc[row_indexer,col_indexer] = value instead\n",
            "\n",
            "See the caveats in the documentation: https://pandas.pydata.org/pandas-docs/stable/user_guide/indexing.html#returning-a-view-versus-a-copy\n",
            "  \n"
          ],
          "name": "stderr"
        }
      ]
    },
    {
      "cell_type": "markdown",
      "metadata": {
        "id": "mHt7G4aXmZtp"
      },
      "source": [
        "Create new plot "
      ]
    },
    {
      "cell_type": "code",
      "metadata": {
        "colab": {
          "base_uri": "https://localhost:8080/",
          "height": 265
        },
        "id": "erh-6_oygRfY",
        "outputId": "f181694c-9683-4345-ba9d-d1de4a891986"
      },
      "source": [
        "plt.plot(data['Close'], label = \"Share Price\", alpha=0.5)\n",
        "plt.plot(data[f\"SMA_{ma_1}\"], label = f\"SMA_{ma_1}\", color=\"orange\", linestyle=\"--\")\n",
        "plt.plot(data[f\"SMA_{ma_2}\"], label = f\"SMA_{ma_2}\", color=\"pink\", linestyle=\"--\")\n",
        "plt.scatter(data.index, data['Buy Signals'], label=\"Buy Signal\", marker=\"^\", color=\"#00ff00\", lw = 3)\n",
        "plt.scatter(data.index, data['Sell Signals'], label=\"Sell Signal\", marker=\"v\", color=\"#ff0000\", lw = 3)\n",
        "plt.legend(loc=\"upper left\")\n",
        "plt.show()"
      ],
      "execution_count": 123,
      "outputs": [
        {
          "output_type": "display_data",
          "data": {
            "image/png": "[encoded data removed]",
            "text/plain": [
              "<Figure size 432x288 with 1 Axes>"
            ]
          },
          "metadata": {
            "tags": []
          }
        }
      ]
    },
    {
      "cell_type": "markdown",
      "metadata": {
        "id": "JjizpKaedOeK"
      },
      "source": [
        "Backtesting"
      ]
    },
    {
      "cell_type": "code",
      "metadata": {
        "id": "-1L_v3ysijT3"
      },
      "source": [
        "\"\"\"\n",
        "Create empty lists and prepare to append buy and sell signals where at least 1 value exists.\n",
        "There must be an easier way to vectorize and streamline this process but it do be like this.\n",
        "\"\"\"\n",
        "merged = list()\n",
        "date_list = list()\n",
        "\n",
        "temp = data[['Buy Signals', 'Sell Signals']]\n",
        "for index, row in temp.iterrows():\n",
        "  if not math.isnan(row[\"Buy Signals\"]) or not math.isnan(row[\"Sell Signals\"]):\n",
        "    np_array = np.array([row[\"Buy Signals\"], row[\"Sell Signals\"]])\n",
        "    merged.append(np_array)\n",
        "    date_list.append(index)\n",
        "merged = pd.DataFrame(merged, columns=['Buys', 'Sells'])\n",
        "merged.index = pd.to_datetime(date_list)"
      ],
      "execution_count": 124,
      "outputs": []
    },
    {
      "cell_type": "code",
      "metadata": {
        "id": "DTzmx-Tv5GcN"
      },
      "source": [
        "total_profit = merged.shift(-1).Sells-merged.Buys"
      ],
      "execution_count": 125,
      "outputs": []
    },
    {
      "cell_type": "code",
      "metadata": {
        "id": "Xoxz_XCtFb4R"
      },
      "source": [
        "relprofits = (merged.shift(-1).Sells - merged.Buys)/merged.Buys"
      ],
      "execution_count": 126,
      "outputs": []
    },
    {
      "cell_type": "code",
      "metadata": {
        "colab": {
          "base_uri": "https://localhost:8080/"
        },
        "id": "kRX1NO59Fgw6",
        "outputId": "5ad2189e-61fa-4c91-8c55-f08bdab70aeb"
      },
      "source": [
        "relprofits.mean()"
      ],
      "execution_count": 127,
      "outputs": [
        {
          "output_type": "execute_result",
          "data": {
            "text/plain": [
              "2.0174745803415166"
            ]
          },
          "metadata": {
            "tags": []
          },
          "execution_count": 127
        }
      ]
    },
    {
      "cell_type": "code",
      "metadata": {
        "id": "2M-Dgy_1FiZa"
      },
      "source": [
        ""
      ],
      "execution_count": 127,
      "outputs": []
    }
  ]
}