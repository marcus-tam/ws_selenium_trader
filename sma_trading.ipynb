{
  "nbformat": 4,
  "nbformat_minor": 0,
  "metadata": {
    "colab": {
      "name": "sma_trading.ipynb",
      "provenance": [],
      "authorship_tag": "ABX9TyP7BMDNQNjh/9HOqRspqym/",
      "include_colab_link": true
    },
    "kernelspec": {
      "name": "python3",
      "display_name": "Python 3"
    },
    "language_info": {
      "name": "python"
    }
  },
  "cells": [
    {
      "cell_type": "markdown",
      "metadata": {
        "id": "view-in-github",
        "colab_type": "text"
      },
      "source": [
        "<a href=\"https://colab.research.google.com/github/marcus-tam/ws_selenium_trader/blob/main/sma_trading.ipynb\" target=\"_parent\"><img src=\"https://colab.research.google.com/assets/colab-badge.svg\" alt=\"Open In Colab\"/></a>"
      ]
    },
    {
      "cell_type": "markdown",
      "metadata": {
        "id": "-PGYkR-plMIx"
      },
      "source": [
        "pip install required packages and import"
      ]
    },
    {
      "cell_type": "code",
      "metadata": {
        "colab": {
          "base_uri": "https://localhost:8080/"
        },
        "id": "R3f7kjYefsLR",
        "outputId": "2f7f9af0-d55a-4a7f-f415-1d5a0bfd61d5"
      },
      "source": [
        "!pip install yfinance"
      ],
      "execution_count": 47,
      "outputs": [
        {
          "output_type": "stream",
          "text": [
            "Requirement already satisfied: yfinance in /usr/local/lib/python3.7/dist-packages (0.1.63)\n",
            "Requirement already satisfied: numpy>=1.15 in /usr/local/lib/python3.7/dist-packages (from yfinance) (1.19.5)\n",
            "Requirement already satisfied: pandas>=0.24 in /usr/local/lib/python3.7/dist-packages (from yfinance) (1.1.5)\n",
            "Requirement already satisfied: requests>=2.20 in /usr/local/lib/python3.7/dist-packages (from yfinance) (2.23.0)\n",
            "Requirement already satisfied: lxml>=4.5.1 in /usr/local/lib/python3.7/dist-packages (from yfinance) (4.6.3)\n",
            "Requirement already satisfied: multitasking>=0.0.7 in /usr/local/lib/python3.7/dist-packages (from yfinance) (0.0.9)\n",
            "Requirement already satisfied: python-dateutil>=2.7.3 in /usr/local/lib/python3.7/dist-packages (from pandas>=0.24->yfinance) (2.8.1)\n",
            "Requirement already satisfied: pytz>=2017.2 in /usr/local/lib/python3.7/dist-packages (from pandas>=0.24->yfinance) (2018.9)\n",
            "Requirement already satisfied: certifi>=2017.4.17 in /usr/local/lib/python3.7/dist-packages (from requests>=2.20->yfinance) (2021.5.30)\n",
            "Requirement already satisfied: chardet<4,>=3.0.2 in /usr/local/lib/python3.7/dist-packages (from requests>=2.20->yfinance) (3.0.4)\n",
            "Requirement already satisfied: urllib3!=1.25.0,!=1.25.1,<1.26,>=1.21.1 in /usr/local/lib/python3.7/dist-packages (from requests>=2.20->yfinance) (1.24.3)\n",
            "Requirement already satisfied: idna<3,>=2.5 in /usr/local/lib/python3.7/dist-packages (from requests>=2.20->yfinance) (2.10)\n",
            "Requirement already satisfied: six>=1.5 in /usr/local/lib/python3.7/dist-packages (from python-dateutil>=2.7.3->pandas>=0.24->yfinance) (1.15.0)\n"
          ],
          "name": "stdout"
        }
      ]
    },
    {
      "cell_type": "code",
      "metadata": {
        "id": "lvqPzoprfq9Z"
      },
      "source": [
        "import datetime as dt\n",
        "import matplotlib.pyplot as plt\n",
        "import pandas_datareader as web\n",
        "from pprint import PrettyPrinter\n",
        "import yfinance as yf"
      ],
      "execution_count": 48,
      "outputs": []
    },
    {
      "cell_type": "markdown",
      "metadata": {
        "id": "VHfUW9HklQRF"
      },
      "source": [
        "Set plot style to dark background (gamer time)\n",
        "\n",
        "PP is used for printing with natural indents (used in .py version but not necessary for .ipynp)\n",
        "\n",
        "set up SMA 30 and SMA 100\n",
        "\n",
        "set up start and end times.\n"
      ]
    },
    {
      "cell_type": "code",
      "metadata": {
        "id": "4kMYuefEfrc1"
      },
      "source": [
        "plt.style.use(\"dark_background\")\n",
        "pp = PrettyPrinter(indent=4)\n",
        "\n",
        "ma_1 = 30\n",
        "ma_2 = 100\n",
        "\n",
        "start = dt.datetime.now() - dt.timedelta(days=365*3)\n",
        "end = dt.datetime.now()"
      ],
      "execution_count": 49,
      "outputs": []
    },
    {
      "cell_type": "markdown",
      "metadata": {
        "id": "EQ794f2NllGO"
      },
      "source": [
        "Download ticker data"
      ]
    },
    {
      "cell_type": "code",
      "metadata": {
        "colab": {
          "base_uri": "https://localhost:8080/"
        },
        "id": "PJSIbn13fyWU",
        "outputId": "fb086459-ed10-48e4-84ee-35507337a602"
      },
      "source": [
        "data = yf.download('MSFT', start=start, end = end)\n",
        "pp.pprint(data)"
      ],
      "execution_count": 50,
      "outputs": [
        {
          "output_type": "stream",
          "text": [
            "\r[*********************100%***********************]  1 of 1 completed\n",
            "                  Open        High  ...   Adj Close    Volume\n",
            "Date                                ...                      \n",
            "2018-07-13  104.370003  105.599998  ...  101.501434  24635200\n",
            "2018-07-16  105.400002  105.820000  ...  101.000809  21786900\n",
            "2018-07-17  104.610001  106.500000  ...  102.002060  25901700\n",
            "2018-07-18  105.940002  106.050003  ...  101.202988  29493900\n",
            "2018-07-19  104.930000  105.309998  ...  100.509819  40171600\n",
            "...                ...         ...  ...         ...       ...\n",
            "2021-07-06  278.029999  279.369995  ...  277.660004  31565600\n",
            "2021-07-07  279.399994  280.690002  ...  279.929993  23260000\n",
            "2021-07-08  276.899994  278.730011  ...  277.420013  24618600\n",
            "2021-07-09  275.720001  278.049988  ...  277.940002  23905500\n",
            "2021-07-12  279.157013  279.750000  ...  277.320007  16376943\n",
            "\n",
            "[754 rows x 6 columns]\n"
          ],
          "name": "stdout"
        }
      ]
    },
    {
      "cell_type": "markdown",
      "metadata": {
        "id": "TFVG4D0zln3l"
      },
      "source": [
        "Add new fields in dataframe. SMA_30 and SMA_100"
      ]
    },
    {
      "cell_type": "code",
      "metadata": {
        "colab": {
          "base_uri": "https://localhost:8080/"
        },
        "id": "dmCd1kRlf1he",
        "outputId": "0854dcdc-8fc0-4fdb-f445-ce2356e2fc0e"
      },
      "source": [
        "data[f'SMA_{ma_1}'] = data['Close'].rolling(window=ma_1).mean()\n",
        "data[f'SMA_{ma_2}'] = data['Close'].rolling(window=ma_2).mean()\n",
        "\n",
        "print(data)"
      ],
      "execution_count": 51,
      "outputs": [
        {
          "output_type": "stream",
          "text": [
            "                  Open        High  ...      SMA_30     SMA_100\n",
            "Date                                ...                        \n",
            "2018-07-13  104.370003  105.599998  ...         NaN         NaN\n",
            "2018-07-16  105.400002  105.820000  ...         NaN         NaN\n",
            "2018-07-17  104.610001  106.500000  ...         NaN         NaN\n",
            "2018-07-18  105.940002  106.050003  ...         NaN         NaN\n",
            "2018-07-19  104.930000  105.309998  ...         NaN         NaN\n",
            "...                ...         ...  ...         ...         ...\n",
            "2021-07-06  278.029999  279.369995  ...  259.276333  248.407499\n",
            "2021-07-07  279.399994  280.690002  ...  260.247999  248.761899\n",
            "2021-07-08  276.899994  278.730011  ...  261.104666  249.086199\n",
            "2021-07-09  275.720001  278.049988  ...  261.986333  249.428599\n",
            "2021-07-12  279.157013  279.750000  ...  262.920000  249.759799\n",
            "\n",
            "[754 rows x 8 columns]\n"
          ],
          "name": "stdout"
        }
      ]
    },
    {
      "cell_type": "markdown",
      "metadata": {
        "id": "AGez2niUluBE"
      },
      "source": [
        "Create variables to store when to buy and sell.\n",
        "\n",
        "Trigger is used as a lock mechanism so we don't have multiple buy and sell orders when SMA's cross for extended periods of time."
      ]
    },
    {
      "cell_type": "code",
      "metadata": {
        "id": "BN2sXsq4gMzt"
      },
      "source": [
        "buy_signals = []\n",
        "sell_signals = []\n",
        "trigger = 0"
      ],
      "execution_count": 52,
      "outputs": []
    },
    {
      "cell_type": "markdown",
      "metadata": {
        "id": "76dSpELfl6Le"
      },
      "source": [
        "Loop through data dataframe. \n",
        "\n",
        "If SMA30 is greater than SMA100 (and trigger lock mechanism is satisfied): append new buy point.\n",
        "\n",
        "Else if SMA30 is less than SMA100 (and trigger lock mechanism is satisfied);\n",
        "append new sell point.\n",
        "\n",
        "else: append 'NAN' values. "
      ]
    },
    {
      "cell_type": "code",
      "metadata": {
        "id": "GDUESiurgNX9"
      },
      "source": [
        "for x in range(len(data)):\n",
        "    if data[f\"SMA_{ma_1}\"].iloc[x] > data[f'SMA_{ma_2}'].iloc[x] and trigger != 1:\n",
        "        buy_signals.append(data['Close'].iloc[x])\n",
        "        sell_signals.append(float('nan'))\n",
        "        trigger = 1\n",
        "    elif data[f\"SMA_{ma_1}\"].iloc[x] < data[f'SMA_{ma_2}'].iloc[x] and trigger != -1:\n",
        "        buy_signals.append(float('nan'))\n",
        "        sell_signals.append(data['Close'].iloc[x])\n",
        "        trigger = -1\n",
        "    else:\n",
        "        buy_signals.append(float('nan'))\n",
        "        sell_signals.append(float('nan'))"
      ],
      "execution_count": 53,
      "outputs": []
    },
    {
      "cell_type": "markdown",
      "metadata": {
        "id": "qID4IWYcmVyv"
      },
      "source": [
        "Add new buy and sells to data dataframe"
      ]
    },
    {
      "cell_type": "code",
      "metadata": {
        "colab": {
          "base_uri": "https://localhost:8080/"
        },
        "id": "f5gW-cbygP2b",
        "outputId": "fbe137f5-9015-4a75-ddae-5844720faf25"
      },
      "source": [
        "data['Buy Signals'] = buy_signals\n",
        "data['Sell Signals'] = sell_signals\n",
        "\n",
        "print(data)"
      ],
      "execution_count": 54,
      "outputs": [
        {
          "output_type": "stream",
          "text": [
            "                  Open        High  ...  Buy Signals  Sell Signals\n",
            "Date                                ...                           \n",
            "2018-07-13  104.370003  105.599998  ...          NaN           NaN\n",
            "2018-07-16  105.400002  105.820000  ...          NaN           NaN\n",
            "2018-07-17  104.610001  106.500000  ...          NaN           NaN\n",
            "2018-07-18  105.940002  106.050003  ...          NaN           NaN\n",
            "2018-07-19  104.930000  105.309998  ...          NaN           NaN\n",
            "...                ...         ...  ...          ...           ...\n",
            "2021-07-06  278.029999  279.369995  ...          NaN           NaN\n",
            "2021-07-07  279.399994  280.690002  ...          NaN           NaN\n",
            "2021-07-08  276.899994  278.730011  ...          NaN           NaN\n",
            "2021-07-09  275.720001  278.049988  ...          NaN           NaN\n",
            "2021-07-12  279.157013  279.750000  ...          NaN           NaN\n",
            "\n",
            "[754 rows x 10 columns]\n"
          ],
          "name": "stdout"
        }
      ]
    },
    {
      "cell_type": "markdown",
      "metadata": {
        "id": "mHt7G4aXmZtp"
      },
      "source": [
        "Create new plot "
      ]
    },
    {
      "cell_type": "code",
      "metadata": {
        "colab": {
          "base_uri": "https://localhost:8080/",
          "height": 265
        },
        "id": "erh-6_oygRfY",
        "outputId": "4ba52ef6-ced1-4d12-b2bd-59882cdfa74e"
      },
      "source": [
        "plt.plot(data['Close'], label = \"Share Price\", alpha=0.5)\n",
        "plt.plot(data[f\"SMA_{ma_1}\"], label = f\"SMA_{ma_1}\", color=\"orange\", linestyle=\"--\")\n",
        "plt.plot(data[f\"SMA_{ma_2}\"], label = f\"SMA_{ma_2}\", color=\"pink\", linestyle=\"--\")\n",
        "plt.scatter(data.index, data['Buy Signals'], label=\"Buy Signal\", marker=\"^\", color=\"#00ff00\", lw = 3)\n",
        "plt.scatter(data.index, data['Sell Signals'], label=\"Sell Signal\", marker=\"v\", color=\"#ff0000\", lw = 3)\n",
        "plt.legend(loc=\"upper left\")\n",
        "plt.show()"
      ],
      "execution_count": 55,
      "outputs": [
        {
          "output_type": "display_data",
          "data": {
            "image/png": "[encoded data removed]",
            "text/plain": [
              "<Figure size 432x288 with 1 Axes>"
            ]
          },
          "metadata": {
            "tags": []
          }
        }
      ]
    },
    {
      "cell_type": "code",
      "metadata": {
        "id": "-1L_v3ysijT3"
      },
      "source": [
        ""
      ],
      "execution_count": null,
      "outputs": []
    }
  ]
}